{
 "cells": [
  {
   "cell_type": "markdown",
   "metadata": {},
   "source": [
    "# Covid-19 vs Pneumo Xray Detection - Testing Application"
   ]
  },
  {
   "cell_type": "markdown",
   "metadata": {},
   "source": [
    "<img src=\"../images/portada.png\"/>\n",
    "Developed by M.Rovai @ May,14 2020<br>\n",
    "\n",
    "Based on the word of [Adrian Rosebrock](https://www.pyimagesearch.com/2020/03/16/detecting-covid-19-in-x-ray-images-with-keras-tensorflow-and-deep-learning/) and [Nell Trevor](https://www.kaggle.com/mauddib/covid-19-x-ray-deep-learning-api-endpoint-code)\n"
   ]
  },
  {
   "cell_type": "markdown",
   "metadata": {},
   "source": [
    "## Disclaimer\n",
    "\n",
    "The deployment of an automatic COVID-19 detection is for educational purposes only. It is not meant to be a reliable, highly accurate COVID-19 diagnosis system, nor has it been professionally or academically vetted."
   ]
  },
  {
   "cell_type": "markdown",
   "metadata": {},
   "source": [
    "## Introduction"
   ]
  },
  {
   "cell_type": "markdown",
   "metadata": {},
   "source": [
    "**Inspiration**\n",
    "\n",
    "The inspiration of this project, was to understand and create a didactic proof of concept of the work \"[XRayCovid-19](http://tools.atislabs.com.br/covid)\" developed by UFRRJ (Universidade Federal Rural do Rio de Janiero). **XRayCovid-19** is an ongoing project that uses Artificial Intelligence to assist the health system in the COVID-19 diagnostic process. It is characterized by easy use; efficiency in response time and effectiveness in the result.\n",
    "\n",
    "**Why X-rays?**\n",
    "\n",
    "There have been promising efforts to apply machine learning to aid in the diagnosis of COVID-19 based on CT scans. Despite the success of these methods, the fact remains that COVID-19 is an infection that is likely to be experienced by communities of all sizes. X-rays are inexpensive and quick to perform; therefore, they are more accessible to healthcare providers working in smaller and/or remote regions. \n",
    "\n",
    "**Thanks**\n",
    "\n",
    "This work was developed using TensorFlow and Keras, based on the great tutorial published by [Dr. Adrian Rosebrock](https://www.pyimagesearch.com/2020/03/16/detecting-covid-19-in-x-ray-images-with-keras-tensorflow-and-deep-learning/). Also, I would like to thanks Nell Trevor that, also based on Dr. Rosebrock's work, provided an endpoint idea, where the resultant model could be tested: [Covid-19 predictor API](http://coviddetector.pythonanywhere.com)"
   ]
  },
  {
   "cell_type": "markdown",
   "metadata": {},
   "source": [
    "## Papers\n",
    "\n",
    "- [[1] 2020 Chowdhury et al - Can AI help in screening Viral and COVID-19 pneumonia?](https://arxiv.org/pdf/2003.13145.pdf)\n",
    "- [[2] 2020 Hall et all - Finding COVID-19 from Chest X-rays using Deep Learning on a Small Dataset](https://arxiv.org/pdf/2004.02060.pdf)\n",
    "- [[3] 2020 COVID-19 Screening on Chest X-ray Images Using Deep Learning based Anomaly Detection](https://arxiv.org/pdf/2003.12338.pdf)"
   ]
  },
  {
   "cell_type": "markdown",
   "metadata": {},
   "source": [
    "## Import Libraries and Setup"
   ]
  },
  {
   "cell_type": "code",
   "execution_count": null,
   "metadata": {
    "ExecuteTime": {
     "end_time": "2020-05-14T16:05:20.139387Z",
     "start_time": "2020-05-14T16:05:19.668900Z"
    }
   },
   "outputs": [],
   "source": []
  },
  {
   "cell_type": "code",
   "execution_count": 1,
   "metadata": {
    "ExecuteTime": {
     "end_time": "2020-05-14T16:10:18.958120Z",
     "start_time": "2020-05-14T16:10:18.955526Z"
    }
   },
   "outputs": [],
   "source": [
    "import cv2\n",
    "from tensorflow.keras.models import load_model"
   ]
  },
  {
   "cell_type": "markdown",
   "metadata": {},
   "source": [
    "## Support Functions"
   ]
  },
  {
   "cell_type": "code",
   "execution_count": 3,
   "metadata": {
    "ExecuteTime": {
     "end_time": "2020-05-14T16:04:51.780358Z",
     "start_time": "2020-05-14T16:04:51.773147Z"
    }
   },
   "outputs": [],
   "source": [
    "def test_rx_image_for_Covid19_2(model, imagePath):\n",
    "    img = cv2.imread(imagePath)\n",
    "    img_out = img\n",
    "    img = cv2.cvtColor(img, cv2.COLOR_BGR2RGB)\n",
    "    img = cv2.resize(img, (224, 224))\n",
    "    img = np.expand_dims(img, axis=0)\n",
    "\n",
    "    img = np.array(img) / 255.0\n",
    "\n",
    "    pred = model.predict(img)\n",
    "    pred_neg = round(pred[0][1]*100)\n",
    "    pred_pos = round(pred[0][0]*100)\n",
    "    \n",
    "    if np.argmax(pred, axis=1)[0] == 1:\n",
    "        prediction = 'NEGATIVE'\n",
    "        prob = pred_neg\n",
    "    else:\n",
    "        prediction = 'POSITIVE'\n",
    "        prob = pred_pos\n",
    "\n",
    "    cv2.imwrite(r\"C:\\Users\\USER\\X-Ray_Covide_development\\input\\20_covid19XrayWebApp\\static\\Image_Prediction.png\", img_out)\n",
    "    return prediction, prob"
   ]
  },
  {
   "cell_type": "markdown",
   "metadata": {
    "ExecuteTime": {
     "end_time": "2020-05-03T17:02:08.966417Z",
     "start_time": "2020-05-03T17:02:08.877825Z"
    }
   },
   "source": [
    "## General Technical overview"
   ]
  },
  {
   "cell_type": "markdown",
   "metadata": {},
   "source": [
    "**What is the difference between an AP and a PA view of an X-ray?**\n",
    "in simple words, during the procedure of taking x-ray radiograph when x-ray passes from posterior of body to anterior, it is called PA view. While in AP view the direction is opposite.\n",
    "\n",
    "Now let's understand the importance of doing this. According to concepts of physics the less the distance between the object and screen more clearer shadow is formed. In this case x-ray is the light source and we are the object. So, in AP view posterior aspect gives better shadow, while in PA view anterior aspect gives better shadow.\n",
    "\n",
    "Mostly the x-ray is taken in AP view for any body part. An important exception here is the Chest. In Chest, we prefer the **PA view** over AP view. But if the patient is very ill and not able to maintain his position then AP view can be done for chest.\n",
    "\n",
    "<img src=\"../images/ap_pa_chest.jpg\"/>\n",
    "\n",
    "From exam point of view, any x-ray you see in general is AP, or L (Lateral) and any chest x-ray is PA view mostly."
   ]
  },
  {
   "cell_type": "markdown",
   "metadata": {},
   "source": [
    "## Loading Model"
   ]
  },
  {
   "cell_type": "code",
   "execution_count": 4,
   "metadata": {
    "ExecuteTime": {
     "end_time": "2020-05-14T16:02:10.880460Z",
     "start_time": "2020-05-14T16:02:09.955259Z"
    }
   },
   "outputs": [
    {
     "name": "stdout",
     "output_type": "stream",
     "text": [
      "Model: \"model_1\"\n",
      "_________________________________________________________________\n",
      " Layer (type)                Output Shape              Param #   \n",
      "=================================================================\n",
      " input_1 (InputLayer)        [(None, 224, 224, 3)]     0         \n",
      "                                                                 \n",
      " block1_conv1 (Conv2D)       (None, 224, 224, 64)      1792      \n",
      "                                                                 \n",
      " block1_conv2 (Conv2D)       (None, 224, 224, 64)      36928     \n",
      "                                                                 \n",
      " block1_pool (MaxPooling2D)  (None, 112, 112, 64)      0         \n",
      "                                                                 \n",
      " block2_conv1 (Conv2D)       (None, 112, 112, 128)     73856     \n",
      "                                                                 \n",
      " block2_conv2 (Conv2D)       (None, 112, 112, 128)     147584    \n",
      "                                                                 \n",
      " block2_pool (MaxPooling2D)  (None, 56, 56, 128)       0         \n",
      "                                                                 \n",
      " block3_conv1 (Conv2D)       (None, 56, 56, 256)       295168    \n",
      "                                                                 \n",
      " block3_conv2 (Conv2D)       (None, 56, 56, 256)       590080    \n",
      "                                                                 \n",
      " block3_conv3 (Conv2D)       (None, 56, 56, 256)       590080    \n",
      "                                                                 \n",
      " block3_pool (MaxPooling2D)  (None, 28, 28, 256)       0         \n",
      "                                                                 \n",
      " block4_conv1 (Conv2D)       (None, 28, 28, 512)       1180160   \n",
      "                                                                 \n",
      " block4_conv2 (Conv2D)       (None, 28, 28, 512)       2359808   \n",
      "                                                                 \n",
      " block4_conv3 (Conv2D)       (None, 28, 28, 512)       2359808   \n",
      "                                                                 \n",
      " block4_pool (MaxPooling2D)  (None, 14, 14, 512)       0         \n",
      "                                                                 \n",
      " block5_conv1 (Conv2D)       (None, 14, 14, 512)       2359808   \n",
      "                                                                 \n",
      " block5_conv2 (Conv2D)       (None, 14, 14, 512)       2359808   \n",
      "                                                                 \n",
      " block5_conv3 (Conv2D)       (None, 14, 14, 512)       2359808   \n",
      "                                                                 \n",
      " block5_pool (MaxPooling2D)  (None, 7, 7, 512)         0         \n",
      "                                                                 \n",
      " average_pooling2d_2 (Averag  (None, 3, 3, 512)        0         \n",
      " ePooling2D)                                                     \n",
      "                                                                 \n",
      " flatten (Flatten)           (None, 4608)              0         \n",
      "                                                                 \n",
      " dense_4 (Dense)             (None, 128)               589952    \n",
      "                                                                 \n",
      " dropout_2 (Dropout)         (None, 128)               0         \n",
      "                                                                 \n",
      " dense_5 (Dense)             (None, 2)                 258       \n",
      "                                                                 \n",
      "=================================================================\n",
      "Total params: 15,304,898\n",
      "Trainable params: 590,210\n",
      "Non-trainable params: 14,714,688\n",
      "_________________________________________________________________\n"
     ]
    }
   ],
   "source": [
    "covid_pneumo_model = load_model(r\"C:\\Users\\USER\\X-Ray_Covide_development\\input\\model\\covid_pneumo_model.h5\")\n",
    "\n",
    "# Show the model architecture\n",
    "covid_pneumo_model.summary()"
   ]
  },
  {
   "cell_type": "markdown",
   "metadata": {},
   "source": [
    "## Testing model with Real images"
   ]
  },
  {
   "cell_type": "markdown",
   "metadata": {},
   "source": [
    "### Test on Covid images (From March/2020)"
   ]
  },
  {
   "cell_type": "code",
   "execution_count": 8,
   "metadata": {
    "ExecuteTime": {
     "end_time": "2020-05-14T16:04:05.326516Z",
     "start_time": "2020-05-14T16:04:05.191670Z"
    }
   },
   "outputs": [
    {
     "name": "stdout",
     "output_type": "stream",
     "text": [
      " Volume in drive C is OS\n",
      " Volume Serial Number is 004D-2377\n",
      "\n",
      " Directory of C:\\Users\\USER\\X-Ray_Covide_development\\input\\10_Covid_Images\\dataset_validation\\covid_validation\n",
      "\n",
      "05/17/2022  04:27 PM    <DIR>          .\n",
      "05/17/2022  03:58 PM    <DIR>          ..\n",
      "03/23/2021  01:02 AM           367,441 01E392EE-69F9-4E33-BFCE-E5C968654078.jpeg\n",
      "03/23/2021  01:02 AM           312,368 03BF7561-A9BA-4C3C-B8A0-D3E585F73F3C.jpeg\n",
      "03/23/2021  01:02 AM           729,476 0a7faa2a.jpg\n",
      "03/23/2021  01:02 AM           203,467 1.CXRCTThoraximagesofCOVID-19fromSingapore.pdf-000-fig1a.png\n",
      "03/23/2021  01:02 AM           206,945 1.CXRCTThoraximagesofCOVID-19fromSingapore.pdf-000-fig1b.png\n",
      "03/23/2021  01:02 AM           195,974 1.CXRCTThoraximagesofCOVID-19fromSingapore.pdf-001-fig2a.png\n",
      "03/23/2021  01:02 AM           164,441 1.CXRCTThoraximagesofCOVID-19fromSingapore.pdf-001-fig2b.png\n",
      "03/23/2021  01:02 AM           185,876 1.CXRCTThoraximagesofCOVID-19fromSingapore.pdf-002-fig3a.png\n",
      "03/23/2021  01:02 AM           187,139 1.CXRCTThoraximagesofCOVID-19fromSingapore.pdf-002-fig3b.png\n",
      "03/23/2021  01:02 AM           194,244 1.CXRCTThoraximagesofCOVID-19fromSingapore.pdf-003-fig4a.png\n",
      "03/23/2021  01:02 AM           205,805 1.CXRCTThoraximagesofCOVID-19fromSingapore.pdf-003-fig4b.png\n",
      "03/23/2021  01:02 AM           159,629 10.1016-slash-j.anl.2020.04.002-a.png\n",
      "03/23/2021  01:02 AM           396,859 10.1016-slash-j.crad.2020.04.002-a.png\n",
      "03/23/2021  01:02 AM           391,982 10.1016-slash-j.crad.2020.04.002-b.png\n",
      "03/23/2021  01:02 AM           434,613 1052b0fe.jpg\n",
      "03/23/2021  01:02 AM            53,488 1141cc2b8b9cc394becce5d978b5a7_jumbo.jpeg\n",
      "03/23/2021  01:02 AM           139,969 12941_2020_358_Fig1_HTML.jpg\n",
      "03/23/2021  01:02 AM           309,985 1312A392-67A3-4EBF-9319-810CF6DA5EF6.jpeg\n",
      "03/23/2021  01:02 AM            59,030 14d81f378173b86cc53f21d2d67040_jumbo.jpeg\n",
      "03/23/2021  01:02 AM            47,798 16660_1_1.jpg\n",
      "03/23/2021  01:02 AM            43,617 16660_2_1.jpg\n",
      "03/23/2021  01:02 AM            46,543 16660_3_1.jpg\n",
      "03/23/2021  01:02 AM            49,214 16660_4_1.jpg\n",
      "03/23/2021  01:02 AM            56,196 16660_5_1.jpg\n",
      "03/23/2021  01:02 AM           369,352 16663_1_1.jpg\n",
      "03/23/2021  01:02 AM           358,124 16664_1_1.jpg\n",
      "03/23/2021  01:02 AM           149,813 16669_3_1.jpeg\n",
      "03/23/2021  01:02 AM            74,435 16672_1_1.jpg\n",
      "03/23/2021  01:02 AM           114,941 16708_1_1.jpg\n",
      "03/23/2021  01:02 AM           135,652 16708_4_1.jpg\n",
      "03/23/2021  01:02 AM           113,720 16708_5_1.jpg\n",
      "03/23/2021  01:02 AM           612,258 16745_5_1.png\n",
      "03/23/2021  01:02 AM            89,227 16747_1_1.jpg\n",
      "03/23/2021  01:02 AM            61,433 16865_1_1.jpg\n",
      "03/23/2021  01:02 AM            25,402 16953_3_1.jpg\n",
      "03/23/2021  01:02 AM            27,642 16953_4_1.jpg\n",
      "03/23/2021  01:02 AM            24,090 16953_5_1.jpg\n",
      "03/23/2021  01:02 AM           443,351 19abe1f3.jpg\n",
      "03/23/2021  01:02 AM           276,007 1B734A89-A1BF-49A8-A1D3-66FAFA4FAC5D.jpeg\n",
      "03/23/2021  01:02 AM           813,392 1-s2.0-S0140673620303706-fx1_lrg.jpg\n",
      "03/23/2021  01:02 AM            13,456 1-s2.0-S1684118220300608-main.pdf-001.jpg\n",
      "03/23/2021  01:02 AM            18,001 1-s2.0-S1684118220300608-main.pdf-002.jpg\n",
      "03/23/2021  01:02 AM           132,410 1-s2.0-S1684118220300682-main.pdf-002-a1.png\n",
      "03/23/2021  01:02 AM           148,463 1-s2.0-S1684118220300682-main.pdf-002-a2.png\n",
      "03/23/2021  01:02 AM           149,985 1-s2.0-S1684118220300682-main.pdf-003-b1.png\n",
      "03/23/2021  01:02 AM           164,180 1-s2.0-S1684118220300682-main.pdf-003-b2.png\n",
      "03/23/2021  01:02 AM           471,041 1-s2.0-S2214250920300834-gr1_lrg-b.png\n",
      "03/23/2021  01:02 AM           439,936 1-s2.0-S2214250920300834-gr1_lrg-c.png\n",
      "03/23/2021  01:02 AM           120,798 1-s2.0-S2387020620301959-gr4_lrg-b.png\n",
      "03/23/2021  01:02 AM           127,532 1-s2.0-S2387020620301959-gr4_lrg-c.png\n",
      "03/23/2021  01:02 AM           434,438 2168a917.jpg\n",
      "03/23/2021  01:02 AM         1,834,923 23E99E2E-447C-46E5-8EB2-D35D12473C39.png\n",
      "05/16/2020  03:06 AM           218,985 2966893D-5DDF-4B68-9E2B-4979D5956C8E.jpeg\n",
      "03/23/2021  01:02 AM           680,003 2C26F453-AF3B-4517-BB9E-802CF2179543.jpeg\n",
      "03/23/2021  01:02 AM           423,032 2cd63b76.jpg\n",
      "03/23/2021  01:02 AM            41,370 2-chest-filmc.jpg\n",
      "03/23/2021  01:02 AM           169,203 2edb88df42cab5e5fbc18b3965e0bd_jumbo.jpeg\n",
      "05/16/2020  03:06 AM            82,913 31BA3780-2323-493F-8AED-62081B9C383B.jpeg\n",
      "03/23/2021  01:02 AM         1,665,326 353889E0-A1E8-4F9E-A0B8-F24F36BCFBFB.jpeg\n",
      "03/23/2021  01:02 AM           726,865 3b46de94.jpg\n",
      "03/23/2021  01:02 AM           156,888 40779_2020_233_Fig2_HTML-a.png\n",
      "03/23/2021  01:02 AM            94,582 41182_2020_203_Fig3_HTML.jpg\n",
      "03/23/2021  01:02 AM            78,028 41182_2020_203_Fig4_HTML.jpg\n",
      "03/23/2021  01:02 AM            76,390 41182_2020_203_Fig5_HTML.jpg\n",
      "03/23/2021  01:02 AM           121,547 41379_2020_536_Fig2_HTML-c1.png\n",
      "03/23/2021  01:02 AM            54,072 41591_2020_819_Fig1_HTML.webp-day10.png\n",
      "03/23/2021  01:02 AM            56,380 41591_2020_819_Fig1_HTML.webp-day5.png\n",
      "03/23/2021  01:02 AM           428,769 441c9cdd.jpg\n",
      "03/23/2021  01:02 AM           423,880 48c4542c.jpg\n",
      "03/23/2021  01:02 AM           432,006 4d98e1de.jpg\n",
      "03/23/2021  01:02 AM            77,452 4e43e48d52c9e2d4c6c1fb9bc1544f_jumbo.jpeg\n",
      "03/23/2021  01:02 AM           227,594 53EC07C9-5CC6-4BE4-9B6F-D7B0D72AAA7E.jpeg\n",
      "03/23/2021  01:02 AM           447,620 5782ae15.jpg\n",
      "03/23/2021  01:02 AM           107,875 58cb9263f16e94305c730685358e4e_jumbo.jpeg\n",
      "03/23/2021  01:02 AM           427,053 5f619d7e.jpg\n",
      "03/23/2021  01:02 AM             9,841 6b3bdbc31f65230b8cdcc3cef5f8ba8a-40ac-0.jpg\n",
      "03/23/2021  01:02 AM           125,332 6b44464d-73a7-4cf3-bbb6-ffe7168300e3.annot.original.jpeg\n",
      "05/16/2020  03:06 AM           220,427 6C94A287-C059-46A0-8600-AFB95F4727B7.jpeg\n",
      "03/23/2021  01:02 AM           437,552 6CB4EFC6-68FA-4CD5-940C-BEFA8DAFE9A7.jpeg\n",
      "03/23/2021  01:02 AM           350,350 7AF6C1AF-D249-4BD2-8C26-449304105D03.jpeg\n",
      "03/23/2021  01:02 AM           413,575 7afaaccc.jpg\n",
      "05/16/2020  03:06 AM           256,553 7C69C012-7479-493F-8722-ABC29C60A2DD.jpeg\n",
      "03/23/2021  01:02 AM            18,466 7-fatal-covid19.jpg\n",
      "03/23/2021  01:02 AM           103,490 80446565-E090-4187-A031-9D3CEAA586C8.jpeg\n",
      "03/23/2021  01:02 AM           414,887 80b5f00f.jpg\n",
      "03/23/2021  01:02 AM           429,578 82a78c13.jpg\n",
      "03/23/2021  01:02 AM            36,637 88de9d8c39e946abd495b37cd07d89e5-2ee6-0.jpg\n",
      "03/23/2021  01:02 AM            39,509 88de9d8c39e946abd495b37cd07d89e5-6531-0.jpg\n",
      "03/23/2021  01:02 AM           425,816 8da14fff.jpg\n",
      "03/23/2021  01:02 AM           729,090 8fc103ca.jpg\n",
      "03/23/2021  01:02 AM           130,303 8FDE8DBA-CFBD-4B4C-B1A4-6F36A93B7E87.jpeg\n",
      "03/23/2021  01:02 AM           624,873 90986ce4.jpg\n",
      "03/23/2021  01:02 AM           559,748 93FE0BB1-022D-4F24-9727-987A07975FFB.jpeg\n",
      "03/23/2021  01:02 AM           141,075 9C34AF49-E589-44D5-92D3-168B3B04E4A6.jpeg\n",
      "03/23/2021  01:02 AM           115,533 9fdd3c3032296fd04d2cad5d9070d4_jumbo.jpeg\n",
      "03/23/2021  01:02 AM           435,432 a2eba651.jpg\n",
      "03/23/2021  01:02 AM           433,579 a361d7b7.jpg\n",
      "03/23/2021  01:02 AM           401,817 a8ac1969.jpg\n",
      "03/23/2021  01:02 AM           750,152 ac4f6e4e.jpg\n",
      "03/23/2021  01:02 AM            11,863 ae6c954c0039de4b5edee53865ffee43-e6c8-0.jpg\n",
      "03/23/2021  01:02 AM            67,998 all14238-fig-0001-m-b.jpg\n",
      "03/23/2021  01:02 AM            66,862 all14238-fig-0001-m-c.jpg\n",
      "03/23/2021  01:02 AM            30,655 AR-1.jpg\n",
      "03/23/2021  01:02 AM            32,166 AR-2.jpg\n",
      "03/23/2021  01:02 AM         1,027,334 article_river_e4d185c06e3511eaa2321d8ab357a1de-c1mn.png\n",
      "03/23/2021  01:02 AM           134,512 auntminnie-a-2020_01_28_23_51_6665_2020_01_28_Vietnam_coronavirus.jpeg\n",
      "03/23/2021  01:02 AM           130,226 auntminnie-b-2020_01_28_23_51_6665_2020_01_28_Vietnam_coronavirus.jpeg\n",
      "03/23/2021  01:02 AM           131,169 auntminnie-c-2020_01_28_23_51_6665_2020_01_28_Vietnam_coronavirus.jpeg\n",
      "03/23/2021  01:02 AM           117,814 auntminnie-d-2020_01_28_23_51_6665_2020_01_28_Vietnam_coronavirus.jpeg\n",
      "03/23/2021  01:02 AM            91,689 b0f1684d1ee90dc09deef015e29dae_jumbo.jpeg\n",
      "05/16/2020  03:06 AM           253,255 B2D20576-00B7-4519-A415-72DE29C90C34.jpeg\n",
      "03/23/2021  01:02 AM           760,099 b9673e89.jpg\n",
      "03/23/2021  01:02 AM           713,256 bb0e626a.jpg\n",
      "03/23/2021  01:02 AM           688,247 bd10d5e2.jpg\n",
      "03/23/2021  01:02 AM            71,126 BMJ-37-163-g1.jpg\n",
      "03/23/2021  01:02 AM           983,646 c0f74558.jpg\n",
      "03/23/2021  01:02 AM           770,915 c3829ecb.jpg\n",
      "03/23/2021  01:02 AM           421,277 c601f50d.jpg\n",
      "03/23/2021  01:02 AM           393,708 CD50BA96-6982-4C80-AE7B-5F67ACDBFA56.jpeg\n",
      "03/23/2021  01:02 AM           124,765 ciaa199.pdf-001-a.png\n",
      "03/23/2021  01:02 AM           121,019 ciaa199.pdf-001-b.png\n",
      "03/23/2021  01:02 AM         1,355,244 covid-19-caso-70-1-PA.jpg\n",
      "03/23/2021  01:02 AM           220,166 covid-19-caso-82-1-8.png\n",
      "03/23/2021  01:02 AM         1,413,515 covid-19-caso-91-1-12.png\n",
      "03/23/2021  01:02 AM           330,726 covid-19-caso-94-1-14.png\n",
      "03/23/2021  01:02 AM           611,448 covid-19-caso-95-1-15.png\n",
      "03/23/2021  01:02 AM           603,956 covid-19-caso-95-3-14.png\n",
      "03/23/2021  01:02 AM         1,486,277 covid-19-infection-exclusive-gastrointestinal-symptoms-pa.png\n",
      "03/23/2021  01:02 AM         4,799,182 covid-19-pneumonia-14-PA.png\n",
      "03/23/2021  01:02 AM         1,353,580 covid-19-pneumonia-15-PA.jpg\n",
      "03/23/2021  01:02 AM           133,396 covid-19-pneumonia-20.jpg\n",
      "03/23/2021  01:02 AM            76,031 covid-19-pneumonia-20-pa-on-admission.jpg\n",
      "03/23/2021  01:02 AM         1,338,765 covid-19-pneumonia-22-day1-pa.png\n",
      "03/23/2021  01:02 AM         1,325,222 covid-19-pneumonia-22-day2-pa.png\n",
      "03/23/2021  01:02 AM           533,471 covid-19-pneumonia-28.png\n",
      "03/23/2021  01:02 AM           896,012 covid-19-pneumonia-30-PA.jpg\n",
      "03/23/2021  01:02 AM           577,512 covid-19-pneumonia-35-1.jpg\n",
      "03/23/2021  01:02 AM           579,810 covid-19-pneumonia-35-2.jpg\n",
      "03/23/2021  01:02 AM           942,214 covid-19-pneumonia-38-pa.jpg\n",
      "03/23/2021  01:02 AM           109,595 covid-19-pneumonia-44-day-0.jpeg\n",
      "03/23/2021  01:02 AM            65,956 covid-19-pneumonia-53.jpg\n",
      "03/23/2021  01:02 AM           905,790 covid-19-pneumonia-7-PA.jpg\n",
      "03/23/2021  01:02 AM            20,693 covid-19-pneumonia-8.jpg\n",
      "03/23/2021  01:02 AM           495,036 covid-19-pneumonia-93.png\n",
      "03/23/2021  01:02 AM            31,881 covid-19-pneumonia-evolution-over-a-week-1-day0-PA.jpg\n",
      "03/23/2021  01:02 AM            68,361 covid-19-pneumonia-mild.JPG\n",
      "03/23/2021  01:02 AM           108,067 covid-19-pneumonia-rapidly-progressive-12-hours.jpg\n",
      "03/23/2021  01:02 AM           133,524 covid-19-pneumonia-rapidly-progressive-3-days.jpg\n",
      "03/23/2021  01:02 AM           143,435 covid-19-pneumonia-rapidly-progressive-admission.jpg\n",
      "03/23/2021  01:02 AM            82,440 covid-19-rapidly-progressive-acute-respiratory-distress-syndrome-ards-admission.jpg\n",
      "03/23/2021  01:02 AM            80,049 covid-19-rapidly-progressive-acute-respiratory-distress-syndrome-ards-day-1.jpg\n",
      "03/23/2021  01:02 AM            88,046 covid-19-rapidly-progressive-acute-respiratory-distress-syndrome-ards-day-2.jpg\n",
      "03/23/2021  01:02 AM           104,370 covid-19-rapidly-progressive-acute-respiratory-distress-syndrome-ards-day-3.jpg\n",
      "03/23/2021  01:02 AM           721,099 d009d61f.jpg\n",
      "03/23/2021  01:02 AM           432,348 d9d6ca9a.jpg\n",
      "03/23/2021  01:02 AM           647,493 e1446fe8.jpg\n",
      "05/16/2020  03:06 AM           234,188 E63574A7-4188-4C8D-8D17-9D67A18A1AFA.jpeg\n",
      "03/23/2021  01:02 AM           415,844 ec083e35.jpg\n",
      "03/23/2021  01:02 AM            29,219 extubation-1.jpg\n",
      "03/23/2021  01:02 AM            29,999 extubation-13.jpg\n",
      "03/23/2021  01:02 AM            29,259 extubation-4.jpg\n",
      "03/23/2021  01:02 AM            27,986 extubation-8.jpg\n",
      "05/16/2020  03:06 AM            86,460 F2DE909F-E19C-4900-92F5-8F435B031AC6.jpeg\n",
      "05/16/2020  03:06 AM           326,863 F4341CE7-73C9-45C6-99C8-8567A5484B63.jpeg\n",
      "03/23/2021  01:02 AM           419,743 f64132c8.jpg\n",
      "03/23/2021  01:02 AM           417,681 f6575117.jpg\n",
      "03/23/2021  01:02 AM           424,159 f6d980a0.jpg\n",
      "03/23/2021  01:02 AM           803,288 f8335316.jpg\n",
      "03/23/2021  01:02 AM           146,784 FE9F9A5D-2830-46F9-851B-1FF4534959BE.jpeg\n",
      "03/23/2021  01:02 AM           481,919 fff49165-b22d-4bb4-b9d1-d5d62c52436c.annot.original.png\n",
      "03/23/2021  01:02 AM           689,401 figure1-5e71be566aa8714a04de3386-98-left.jpeg\n",
      "03/23/2021  01:02 AM           363,730 figure1-5e75d0940b71e1b702629659-98-right.jpeg\n",
      "03/23/2021  01:02 AM            60,280 gr1_lrg-a.jpg\n",
      "03/23/2021  01:02 AM            69,440 gr1_lrg-b.jpg\n",
      "03/23/2021  01:02 AM            78,152 kjr-21-e25-g001-l-a.jpg\n",
      "03/23/2021  01:02 AM           228,947 lancet-case2a.jpg\n",
      "03/23/2021  01:02 AM           344,665 lancet-case2b.jpg\n",
      "03/23/2021  01:02 AM            67,189 nCoV-radiol.2020200269.fig1-day7.jpeg\n",
      "03/23/2021  01:02 AM           233,821 nejmc2001573_f1a.jpeg\n",
      "03/23/2021  01:02 AM           320,560 nejmc2001573_f1b.jpeg\n",
      "03/23/2021  01:02 AM           193,431 nejmoa2001191_f1-PA.jpeg\n"
     ]
    },
    {
     "name": "stdout",
     "output_type": "stream",
     "text": [
      "03/23/2021  01:02 AM           179,575 nejmoa2001191_f3-PA.jpeg\n",
      "03/23/2021  01:02 AM           421,668 nejmoa2001191_f4.jpeg\n",
      "03/23/2021  01:02 AM           176,601 nejmoa2001191_f5-PA.jpeg\n",
      "03/23/2021  01:02 AM            18,493 paving.jpg\n",
      "03/23/2021  01:02 AM           141,192 radiol.2020200274.fig3d.png\n",
      "03/23/2021  01:02 AM           218,598 radiol.2020200490.fig3.jpeg\n",
      "03/23/2021  01:02 AM            13,638 ryct.2020003.fig2-a.png\n",
      "03/23/2021  01:02 AM            15,584 ryct.2020003.fig2-b.png\n",
      "03/23/2021  01:02 AM            17,043 ryct.2020003.fig2-c.png\n",
      "03/23/2021  01:02 AM         1,927,296 ryct.2020200028.fig1a.jpeg\n",
      "03/23/2021  01:02 AM           353,973 ryct.2020200034.fig2.jpeg\n",
      "03/23/2021  01:02 AM           139,568 ryct.2020200034.fig5-day0.jpeg\n",
      "03/23/2021  01:02 AM           194,084 ryct.2020200034.fig5-day4.jpeg\n",
      "03/23/2021  01:02 AM           191,728 ryct.2020200034.fig5-day7.jpeg\n",
      "03/23/2021  01:02 AM            64,220 thnov10p5641g006-c.png\n",
      "03/23/2021  01:02 AM         1,186,153 tpmd200203f2-b.png\n",
      "03/23/2021  01:02 AM         1,033,776 tpmd200203f2-c.png\n",
      "03/23/2021  01:02 AM             9,816 yxppt-2020-02-19_00-51-27_287214-day8.jpg\n",
      "             199 File(s)     70,491,874 bytes\n",
      "               2 Dir(s)  53,470,330,880 bytes free\n"
     ]
    }
   ],
   "source": [
    "ls C:\\Users\\USER\\X-Ray_Covide_development\\input\\10_Covid_Images\\dataset_validation\\covid_validation"
   ]
  },
  {
   "cell_type": "code",
   "execution_count": 11,
   "metadata": {},
   "outputs": [],
   "source": [
    "import numpy as np"
   ]
  },
  {
   "cell_type": "code",
   "execution_count": 12,
   "metadata": {
    "ExecuteTime": {
     "end_time": "2020-05-14T16:05:26.694226Z",
     "start_time": "2020-05-14T16:05:26.374653Z"
    }
   },
   "outputs": [
    {
     "data": {
      "text/plain": [
       "('POSITIVE', 100)"
      ]
     },
     "execution_count": 12,
     "metadata": {},
     "output_type": "execute_result"
    }
   ],
   "source": [
    "imagePath = r\"C:\\Users\\USER\\X-Ray_Covide_development\\input\\10_Covid_Images\\dataset_validation\\covid_validation\\6C94A287-C059-46A0-8600-AFB95F4727B7.jpeg\"\n",
    "test_rx_image_for_Covid19_2(covid_pneumo_model, imagePath)"
   ]
  },
  {
   "cell_type": "markdown",
   "metadata": {},
   "source": [
    "### Testing on normal images:"
   ]
  },
  {
   "cell_type": "code",
   "execution_count": 13,
   "metadata": {
    "ExecuteTime": {
     "end_time": "2020-05-14T16:07:06.832321Z",
     "start_time": "2020-05-14T16:07:06.633005Z"
    }
   },
   "outputs": [
    {
     "data": {
      "text/plain": [
       "('NEGATIVE', 100)"
      ]
     },
     "execution_count": 13,
     "metadata": {},
     "output_type": "execute_result"
    }
   ],
   "source": [
    "imagePath = r\"C:\\Users\\USER\\X-Ray_Covide_development\\input\\10_Covid_Images\\dataset_validation\\normal_validation\\IM-0177-0001.jpeg\"\n",
    "test_rx_image_for_Covid19_2(covid_pneumo_model, imagePath)"
   ]
  },
  {
   "cell_type": "markdown",
   "metadata": {},
   "source": [
    "### Testing With Non Covid - Pneumonia"
   ]
  },
  {
   "cell_type": "code",
   "execution_count": 14,
   "metadata": {
    "ExecuteTime": {
     "end_time": "2020-05-14T16:07:24.806220Z",
     "start_time": "2020-05-14T16:07:24.620615Z"
    }
   },
   "outputs": [
    {
     "data": {
      "text/plain": [
       "('NEGATIVE', 100)"
      ]
     },
     "execution_count": 14,
     "metadata": {},
     "output_type": "execute_result"
    }
   ],
   "source": [
    "imagePath = r\"C:\\Users\\USER\\X-Ray_Covide_development\\input\\10_Covid_Images\\dataset_validation\\non_covid_pneumonia_validation/person63_bacteria_306.jpeg\"\n",
    "test_rx_image_for_Covid19_2(covid_pneumo_model, imagePath)"
   ]
  },
  {
   "cell_type": "markdown",
   "metadata": {},
   "source": [
    "# Running a Python Script"
   ]
  },
  {
   "cell_type": "code",
   "execution_count": 28,
   "metadata": {},
   "outputs": [
    {
     "name": "stdout",
     "output_type": "stream",
     "text": [
      "User's Environment variable:\n",
      "{'ALLUSERSPROFILE': 'C:\\\\ProgramData',\n",
      " 'APPDATA': 'C:\\\\Users\\\\USER\\\\AppData\\\\Roaming',\n",
      " 'CLICOLOR': '1',\n",
      " 'COMMONPROGRAMFILES': 'C:\\\\Program '\n",
      "                       'Files\\\\Common '\n",
      "                       'Files',\n",
      " 'COMMONPROGRAMFILES(X86)': 'C:\\\\Program '\n",
      "                            'Files '\n",
      "                            '(x86)\\\\Common '\n",
      "                            'Files',\n",
      " 'COMMONPROGRAMW6432': 'C:\\\\Program '\n",
      "                       'Files\\\\Common '\n",
      "                       'Files',\n",
      " 'COMPUTERNAME': 'DESKTOP-SAJ3OFE',\n",
      " 'COMSPEC': 'C:\\\\WINDOWS\\\\system32\\\\cmd.exe',\n",
      " 'CONDA_DEFAULT_ENV': 'myenv',\n",
      " 'CONDA_EXE': 'C:\\\\Users\\\\USER\\\\anaconda3\\\\Scripts\\\\conda.exe',\n",
      " 'CONDA_PREFIX': 'C:\\\\Users\\\\USER\\\\anaconda3\\\\envs\\\\myenv',\n",
      " 'CONDA_PROMPT_MODIFIER': '(myenv) ',\n",
      " 'CONDA_PYTHON_EXE': 'C:\\\\Users\\\\USER\\\\anaconda3\\\\python.exe',\n",
      " 'CONDA_ROOT': 'C:\\\\Users\\\\USER\\\\anaconda3',\n",
      " 'CONDA_SHLVL': '1',\n",
      " 'DRIVERDATA': 'C:\\\\Windows\\\\System32\\\\Drivers\\\\DriverData',\n",
      " 'FPS_BROWSER_APP_PROFILE_STRING': 'Internet '\n",
      "                                   'Explorer',\n",
      " 'FPS_BROWSER_USER_PROFILE_STRING': 'Default',\n",
      " 'GIT_PAGER': 'cat',\n",
      " 'GOOGLE_API_KEY': 'no',\n",
      " 'GOOGLE_DEFAULT_CLIENT_ID': 'no',\n",
      " 'GOOGLE_DEFAULT_CLIENT_SECRET': 'no',\n",
      " 'HADOOP_HOME': 'C:\\\\Users\\\\USER\\\\hadoop\\\\bin',\n",
      " 'HOMEDRIVE': 'C:',\n",
      " 'HOMEPATH': '\\\\Users\\\\USER',\n",
      " 'IPY_INTERRUPT_EVENT': '3076',\n",
      " 'JAVA_HOME': 'C:\\\\Java\\\\jdk1.8.0_321\\\\bin\\\\bin',\n",
      " 'JPY_INTERRUPT_EVENT': '3076',\n",
      " 'JPY_PARENT_PID': '808',\n",
      " 'LOCALAPPDATA': 'C:\\\\Users\\\\USER\\\\AppData\\\\Local',\n",
      " 'LOGONSERVER': '\\\\\\\\DESKTOP-SAJ3OFE',\n",
      " 'MOZ_PLUGIN_PATH': 'C:\\\\Program '\n",
      "                    'Files '\n",
      "                    '(x86)\\\\Foxit '\n",
      "                    'Software\\\\Foxit '\n",
      "                    'PDF '\n",
      "                    'Reader\\\\plugins\\\\',\n",
      " 'MPLBACKEND': 'module://matplotlib_inline.backend_inline',\n",
      " 'NUMBER_OF_PROCESSORS': '12',\n",
      " 'ONEDRIVECONSUMER': 'C:\\\\Users\\\\USER\\\\OneDrive',\n",
      " 'OS': 'Windows_NT',\n",
      " 'PAGER': 'cat',\n",
      " 'PATH': 'C:\\\\Users\\\\USER\\\\anaconda3\\\\envs\\\\myenv;C:\\\\Users\\\\USER\\\\anaconda3\\\\envs\\\\myenv\\\\Library\\\\mingw-w64\\\\bin;C:\\\\Users\\\\USER\\\\anaconda3\\\\envs\\\\myenv\\\\Library\\\\usr\\\\bin;C:\\\\Users\\\\USER\\\\anaconda3\\\\envs\\\\myenv\\\\Library\\\\bin;C:\\\\Users\\\\USER\\\\anaconda3\\\\envs\\\\myenv\\\\Scripts;C:\\\\Users\\\\USER\\\\anaconda3\\\\envs\\\\myenv\\\\bin;C:\\\\Users\\\\USER\\\\anaconda3\\\\condabin;C:\\\\Users\\\\USER\\\\anaconda3;C:\\\\Users\\\\USER\\\\anaconda3\\\\Library\\\\mingw-w64\\\\bin;C:\\\\Users\\\\USER\\\\anaconda3\\\\Library\\\\usr\\\\bin;C:\\\\Users\\\\USER\\\\anaconda3\\\\Library\\\\bin;C:\\\\Users\\\\USER\\\\anaconda3\\\\Scripts;C:\\\\Program '\n",
      "         'Files '\n",
      "         '(x86)\\\\Common '\n",
      "         'Files\\\\Oracle\\\\Java\\\\javapath;C:\\\\Program '\n",
      "         'Files '\n",
      "         '(x86)\\\\ActiveState '\n",
      "         'Komodo '\n",
      "         'IDE '\n",
      "         '12;C:\\\\Windows\\\\system32;C:\\\\Windows;C:\\\\Windows\\\\System32\\\\Wbem;C:\\\\Windows\\\\System32\\\\WindowsPowerShell\\\\v1.0;C:\\\\Windows\\\\System32\\\\OpenSSH;C:\\\\Program '\n",
      "         'Files\\\\Intel\\\\WiFi\\\\bin;C:\\\\Program '\n",
      "         'Files\\\\Common '\n",
      "         'Files\\\\Intel\\\\WirelessCommon;C:\\\\Program '\n",
      "         'Files '\n",
      "         '(x86)\\\\NVIDIA '\n",
      "         'Corporation\\\\PhysX\\\\Common;C:\\\\Program '\n",
      "         'Files\\\\NVIDIA '\n",
      "         'Corporation\\\\NVIDIA '\n",
      "         'NvDLISR;C:\\\\WINDOWS\\\\system32;C:\\\\WINDOWS;C:\\\\WINDOWS\\\\System32\\\\Wbem;C:\\\\WINDOWS\\\\System32\\\\WindowsPowerShell\\\\v1.0;C:\\\\WINDOWS\\\\System32\\\\OpenSSH;C:\\\\MinGW\\\\bin;C:\\\\Java\\\\jdk1.8.0_321\\\\bin;C:\\\\Users\\\\USER\\\\hadoop\\\\bin;C:\\\\Users\\\\USER\\\\hadoop\\\\sbin;C:\\\\Program '\n",
      "         'Files\\\\Git\\\\cmd;C:\\\\Program '\n",
      "         'Files\\\\dotnet;C:\\\\Program '\n",
      "         'Files\\\\CMake\\\\bin;C:\\\\Users\\\\USER\\\\anaconda3;C:\\\\Users\\\\USER\\\\anaconda3\\\\Library\\\\mingw-w64\\\\bin;C:\\\\Users\\\\USER\\\\anaconda3\\\\Library\\\\usr\\\\bin;C:\\\\Users\\\\USER\\\\anaconda3\\\\Library\\\\bin;C:\\\\Users\\\\USER\\\\anaconda3\\\\Scripts;C:\\\\Users\\\\USER\\\\AppData\\\\Local\\\\activestate\\\\cache\\\\bin;C:\\\\Users\\\\USER\\\\AppData\\\\Local\\\\ActiveState\\\\StateTool\\\\release;C:\\\\Program '\n",
      "         'Files\\\\MySQL\\\\MySQL '\n",
      "         'Shell '\n",
      "         '8.0\\\\bin;C:\\\\Users\\\\USER\\\\AppData\\\\Local\\\\Microsoft\\\\WindowsApps;D:\\\\Microsoft '\n",
      "         'VS '\n",
      "         'Code\\\\bin;C:\\\\Users\\\\USER\\\\.dotnet\\\\tools;C:\\\\Users\\\\USER\\\\anaconda3\\\\envs\\\\myenv\\\\lib\\\\site-packages\\\\numpy\\\\.libs',\n",
      " 'PATHEXT': '.COM;.EXE;.BAT;.CMD;.VBS;.VBE;.JS;.JSE;.WSF;.WSH;.MSC',\n",
      " 'PROCESSOR_ARCHITECTURE': 'AMD64',\n",
      " 'PROCESSOR_IDENTIFIER': 'Intel64 '\n",
      "                         'Family '\n",
      "                         '6 '\n",
      "                         'Model '\n",
      "                         '158 '\n",
      "                         'Stepping '\n",
      "                         '10, '\n",
      "                         'GenuineIntel',\n",
      " 'PROCESSOR_LEVEL': '6',\n",
      " 'PROCESSOR_REVISION': '9e0a',\n",
      " 'PROGRAMDATA': 'C:\\\\ProgramData',\n",
      " 'PROGRAMFILES': 'C:\\\\Program '\n",
      "                 'Files',\n",
      " 'PROGRAMFILES(X86)': 'C:\\\\Program '\n",
      "                      'Files '\n",
      "                      '(x86)',\n",
      " 'PROGRAMW6432': 'C:\\\\Program '\n",
      "                 'Files',\n",
      " 'PROMPT': '(myenv) '\n",
      "           '$P$G',\n",
      " 'PSMODULEPATH': 'C:\\\\Program '\n",
      "                 'Files\\\\WindowsPowerShell\\\\Modules;C:\\\\WINDOWS\\\\system32\\\\WindowsPowerShell\\\\v1.0\\\\Modules',\n",
      " 'PUBLIC': 'C:\\\\Users\\\\Public',\n",
      " 'PYDEVD_USE_FRAME_EVAL': 'NO',\n",
      " 'SESSIONNAME': 'Console',\n",
      " 'SYSTEMDRIVE': 'C:',\n",
      " 'SYSTEMROOT': 'C:\\\\WINDOWS',\n",
      " 'TEMP': 'C:\\\\Users\\\\USER\\\\AppData\\\\Local\\\\Temp',\n",
      " 'TERM': 'xterm-color',\n",
      " 'TF2_BEHAVIOR': '1',\n",
      " 'TF_CPP_MIN_LOG_LEVEL': '2',\n",
      " 'TMP': 'C:\\\\Users\\\\USER\\\\AppData\\\\Local\\\\Temp',\n",
      " 'USERDOMAIN': 'DESKTOP-SAJ3OFE',\n",
      " 'USERDOMAIN_ROAMINGPROFILE': 'DESKTOP-SAJ3OFE',\n",
      " 'USERNAME': 'USER',\n",
      " 'USERPROFILE': 'C:\\\\Users\\\\USER',\n",
      " 'VBOX_MSI_INSTALL_PATH': 'C:\\\\Program '\n",
      "                          'Files\\\\Oracle\\\\VirtualBox\\\\',\n",
      " 'VS100COMNTOOLS': 'C:\\\\Program '\n",
      "                   'Files '\n",
      "                   '(x86)\\\\Microsoft '\n",
      "                   'Visual '\n",
      "                   'Studio '\n",
      "                   '10.0\\\\Common7\\\\Tools\\\\',\n",
      " 'VS140COMNTOOLS': 'C:\\\\Program '\n",
      "                   'Files '\n",
      "                   '(x86)\\\\Microsoft '\n",
      "                   'Visual '\n",
      "                   'Studio '\n",
      "                   '14.0\\\\Common7\\\\Tools\\\\',\n",
      " 'WINDIR': 'C:\\\\WINDOWS',\n",
      " 'ZES_ENABLE_SYSMAN': '1'}\n"
     ]
    }
   ],
   "source": [
    "# importing os module \n",
    "import os\n",
    "import pprint\n",
    "  \n",
    "# Get the list of user's\n",
    "# environment variables\n",
    "env_var = os.environ\n",
    "  \n",
    "# Print the list of user's\n",
    "# environment variables\n",
    "print(\"User's Environment variable:\")\n",
    "pprint.pprint(dict(env_var), width = 1)"
   ]
  },
  {
   "cell_type": "code",
   "execution_count": 30,
   "metadata": {
    "scrolled": true
   },
   "outputs": [
    {
     "name": "stdout",
     "output_type": "stream",
     "text": [
      "POSITIVE 100\n"
     ]
    }
   ],
   "source": [
    "# Import Libraries and Setupimport numpy as np\n",
    "import cv2\n",
    "from tensorflow.keras.models import load_model\n",
    "# Turn-off Info and warnings\n",
    "\n",
    "import os\n",
    "os.environ['root'] = '2'\n",
    "# Support Functionsdef \n",
    "def test_rx_image_for_Covid19_2(model, imagePath):\n",
    "    img = cv2.imread(imagePath)\n",
    "    img_out = img\n",
    "    img = cv2.cvtColor(img, cv2.COLOR_BGR2RGB)\n",
    "    img = cv2.resize(img, (224, 224))\n",
    "    img = np.expand_dims(img, axis=0)   \n",
    "    img = np.array(img) / 255.0  \n",
    "    pred = model.predict(img)\n",
    "    pred_neg = round(pred[0][1]*100)\n",
    "    pred_pos = round(pred[0][0]*100)\n",
    "    \n",
    "    if np.argmax(pred, axis=1)[0] == 1:\n",
    "        prediction = 'NEGATIVE'\n",
    "        prob = pred_neg\n",
    "    else:\n",
    "        prediction = 'POSITIVE'\n",
    "        prob = pred_pos   \n",
    "        cv2.imwrite(r\"C:\\Users\\USER\\X-Ray_Covide_development\\input\\20_covid19XrayWebApp\\static\\Image_Prediction.png\", img_out)\n",
    "    return prediction, prob# load model\n",
    "covid_pneumo_model = load_model(r\"C:\\Users\\USER\\X-Ray_Covide_development\\input\\model\\covid_pneumo_model.h5\")\n",
    "# ---------------------------------------------------------------\n",
    "# Execute test\n",
    "imagePath = r\"C:\\Users\\USER\\X-Ray_Covide_development\\input\\10_Covid_Images\\dataset_validation\\covid_validation\\6C94A287-C059-46A0-8600-AFB95F4727B7.jpeg\"\n",
    "prediction, prob = test_rx_image_for_Covid19_2(covid_pneumo_model, imagePath)\n",
    "print (prediction, prob)"
   ]
  },
  {
   "cell_type": "code",
   "execution_count": 15,
   "metadata": {
    "ExecuteTime": {
     "end_time": "2020-05-06T22:51:10.572232Z",
     "start_time": "2020-05-06T22:51:10.399024Z"
    }
   },
   "outputs": [
    {
     "name": "stdout",
     "output_type": "stream",
     "text": [
      " Volume in drive C is OS\n",
      " Volume Serial Number is 004D-2377\n",
      "\n",
      " Directory of C:\\Users\\USER\\X-Ray_Covide_development\\input\n",
      "\n",
      "05/17/2022  07:20 PM    <DIR>          .\n",
      "05/17/2022  06:11 PM    <DIR>          ..\n",
      "05/17/2022  07:14 PM    <DIR>          .ipynb_checkpoints\n",
      "05/17/2022  03:57 PM    <DIR>          10_Covid_Images\n",
      "05/17/2022  02:53 PM    <DIR>          20_Chest_Xray\n",
      "05/17/2022  07:15 PM    <DIR>          20_covid19XrayWebApp\n",
      "05/17/2022  06:26 PM    <DIR>          20_dataset\n",
      "05/17/2022  07:08 PM         2,933,925 20_Xray_Pneumo_Covid19_Model_2_Training_Tests.ipynb\n",
      "05/17/2022  07:20 PM            33,747 30_AI_Xray_Covid19_Pneumo_Detection_Application.ipynb\n",
      "05/17/2022  04:39 PM    <DIR>          dataset\n",
      "05/17/2022  07:00 PM    <DIR>          model\n",
      "               2 File(s)      2,967,672 bytes\n",
      "               9 Dir(s)  53,467,787,264 bytes free\n"
     ]
    }
   ],
   "source": [
    "ls"
   ]
  },
  {
   "cell_type": "code",
   "execution_count": 27,
   "metadata": {
    "ExecuteTime": {
     "end_time": "2020-05-06T22:52:48.079787Z",
     "start_time": "2020-05-06T22:52:47.860895Z"
    }
   },
   "outputs": [
    {
     "name": "stderr",
     "output_type": "stream",
     "text": [
      "python: can't open file 'covidXrayApp_test.py': [Errno 2] No such file or directory\n"
     ]
    }
   ],
   "source": [
    "! python covidXrayApp_test.py"
   ]
  },
  {
   "cell_type": "markdown",
   "metadata": {},
   "source": [
    "### "
   ]
  }
 ],
 "metadata": {
  "kernelspec": {
   "display_name": "Python 3 (ipykernel)",
   "language": "python",
   "name": "python3"
  },
  "language_info": {
   "codemirror_mode": {
    "name": "ipython",
    "version": 3
   },
   "file_extension": ".py",
   "mimetype": "text/x-python",
   "name": "python",
   "nbconvert_exporter": "python",
   "pygments_lexer": "ipython3",
   "version": "3.7.13"
  },
  "nbTranslate": {
   "displayLangs": [
    "*"
   ],
   "hotkey": "alt-t",
   "langInMainMenu": true,
   "sourceLang": "en",
   "targetLang": "fr",
   "useGoogleTranslate": true
  },
  "toc": {
   "base_numbering": 1,
   "nav_menu": {},
   "number_sections": true,
   "sideBar": true,
   "skip_h1_title": true,
   "title_cell": "Table of Contents",
   "title_sidebar": "Contents",
   "toc_cell": false,
   "toc_position": {},
   "toc_section_display": true,
   "toc_window_display": true
  },
  "varInspector": {
   "cols": {
    "lenName": 16,
    "lenType": 16,
    "lenVar": 40
   },
   "kernels_config": {
    "python": {
     "delete_cmd_postfix": "",
     "delete_cmd_prefix": "del ",
     "library": "var_list.py",
     "varRefreshCmd": "print(var_dic_list())"
    },
    "r": {
     "delete_cmd_postfix": ") ",
     "delete_cmd_prefix": "rm(",
     "library": "var_list.r",
     "varRefreshCmd": "cat(var_dic_list()) "
    }
   },
   "types_to_exclude": [
    "module",
    "function",
    "builtin_function_or_method",
    "instance",
    "_Feature"
   ],
   "window_display": false
  }
 },
 "nbformat": 4,
 "nbformat_minor": 4
}
